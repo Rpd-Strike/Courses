{
 "cells": [
  {
   "cell_type": "code",
   "execution_count": 141,
   "metadata": {},
   "outputs": [],
   "source": [
    "# Imports\n",
    "\n",
    "from typing import List\n",
    "from random import random as rand\n",
    "import pathlib as pl\n",
    "import os, math, np, copy\n",
    "from matplotlib import pyplot as plt\n",
    "import ipywidgets as widgets\n",
    "from ipywidgets import HBox, Label\n",
    "\n",
    "from IPython.display import display"
   ]
  },
  {
   "cell_type": "code",
   "execution_count": 142,
   "metadata": {},
   "outputs": [],
   "source": [
    "# Defining widgets\n",
    "layout = widgets.Layout(width='auto', height='40px') #set width and height\n",
    "\n",
    "w_populatie = widgets.IntSlider(value = 25, min = 10, max = 2000, step = 5,)\n",
    "w_domeniu = widgets.IntRangeSlider(value = [-1, 2], min = -100, max = 100, step = 1)\n",
    "w_function = widgets.Text(value = '-1 * x**2 + x + 2', \n",
    "    placeholder = 'Functie in x, ex: 3 * x + 2')\n",
    "w_precizie = widgets.IntSlider(value = 6, min = 1, max = 15, step = 1)\n",
    "w_prob_recomb = widgets.FloatSlider(value=0.25, min = 0, max = 1, step = 0.01)\n",
    "w_prob_mutatie = widgets.FloatSlider(value=0.01, min = 0, max = 1, step = 0.01)\n",
    "w_tip_mutatie = widgets.ToggleButtons(\n",
    "    options=['Mutatie rara', 'Mutatie comuna'])\n",
    "w_generatii = widgets.IntSlider(value = 400, min = 10, max = 1250, step = 5)\n",
    "w_secondary = widgets.IntSlider(value = 15, min = 0, max = 100, step = 1)"
   ]
  },
  {
   "cell_type": "code",
   "execution_count": 143,
   "metadata": {},
   "outputs": [],
   "source": [
    "# Definirea constantelor\n",
    "\n",
    "FILENAME = \"Evolutie.txt\"\n",
    "\n",
    "# Decide comportamentul algoritmului genetic\n",
    "\n",
    "# selectia (daca se aleg mai multe strategii, este folosita doar una dintre ele, \n",
    "# cu prioritatea in ordinea data)\n",
    "# Numai una din selectii trebuie sa aiba valoarea 1 (oricum doar una este folosita)\n",
    "SEL_PROPORTIONALA = 1\n",
    "SEL_ORDONARE = 0\n",
    "SEL_TURNEU = 0\n",
    "\n",
    "# SEL_ELITISTA = 1\n",
    "# Daca se foloseste selectia turneu, marimea unei runde de selectie\n",
    "SEL_TURNEU_SIZE = 10\n",
    "\n",
    "# daca folosim operatorul de mutatie\n",
    "# Recomandat sa fie folosita exact 1 dintre variante\n",
    "# Doar una dintre ele va fi folosita, valoare extrasa din interfata grafica, vezi setGlobals\n",
    "ALG_MUTATIE_DEASA = 0\n",
    "ALG_MUTATIE_RARA = 1\n",
    "\n",
    "# Constantele problemei\n",
    "DIM_POP = w_populatie.value\n",
    "DOM_A, DOM_B = w_domeniu.value\n",
    "PRECIZIE = w_precizie.value  # O putere de 10, -->> 10^PRECIZIE\n",
    "X_FUNC = w_function.value\n",
    "P_REC, P_MUT = w_prob_recomb.value, w_prob_mutatie.value\n",
    "EPOCHS = w_generatii.value\n",
    "\n",
    "# Aceasta functie reincarca variabilele globale \n",
    "# pentru a corespunde cu cele din interfata grafica\n",
    "def setGlobals():\n",
    "    global DIM_POP\n",
    "    global DOM_A, DOM_B\n",
    "    global PRECIZIE\n",
    "    global X_FUNC\n",
    "    global P_REC, P_MUT\n",
    "    global EPOCHS\n",
    "    global SECONDARY_PERCENT\n",
    "    global ALG_MUTATIE_DEASA, ALG_MUTATIE_RARA\n",
    "    \n",
    "    ALG_MUTATIE_DEASA, ALG_MUTATIE_RARA = 0, 0\n",
    "\n",
    "    if w_tip_mutatie.value == 'Mutatie rara':\n",
    "        ALG_MUTATIE_RARA = 1\n",
    "    else:\n",
    "        ALG_MUTATIE_DEASA = 1\n",
    "    \n",
    "    SECONDARY_PERCENT = w_secondary.value  # Top cat % urmaresc performanta medie si cea mai proasta \n",
    "    DIM_POP = w_populatie.value\n",
    "    DOM_A, DOM_B = w_domeniu.value\n",
    "    PRECIZIE = w_precizie.value  # O putere de 10, -->> 10^PRECIZIE\n",
    "    X_FUNC = w_function.value\n",
    "    P_REC, P_MUT = w_prob_recomb.value, w_prob_mutatie.value\n",
    "    EPOCHS = w_generatii.value"
   ]
  },
  {
   "cell_type": "code",
   "execution_count": 144,
   "metadata": {},
   "outputs": [],
   "source": [
    "# Functie pentru a face mai scurt un deep-copy\n",
    "def mycp(x):\n",
    "    return copy.deepcopy(x)\n",
    "    "
   ]
  },
  {
   "cell_type": "code",
   "execution_count": 145,
   "metadata": {},
   "outputs": [],
   "source": [
    "# Individ stuff\n",
    "\n",
    "class Individ:\n",
    "    # Cream clasa individ dandu-se o lista de 0/1\n",
    "    def __init__(self, bits: List[int]):\n",
    "        self.bits = bits\n",
    "    \n",
    "    # Pentru a putea transforma in string un Individ\n",
    "    def __str__(self):\n",
    "        return f'Individ (bits = {self.bits})'\n",
    "    \n",
    "    # Pentru a putea afisa in interactor clasa Individ\n",
    "    def __repr__(self):\n",
    "        return self.__str__()\n",
    "    \n",
    "    # Returneaza x-ul asociat cromozomului\n",
    "    def get_x(self):\n",
    "        l = len(self.bits)\n",
    "        val = 0\n",
    "        for b in self.bits:\n",
    "            val = val * 2 + b\n",
    "        return DOM_A + (DOM_B - DOM_A) / (2**l - 1) * val\n",
    "    \n",
    "    # Returneaza valoarea functiei evaluata in X-ul asociat cromozomului\n",
    "    def get_val(self):\n",
    "        def myfunction(x):\n",
    "            return eval(X_FUNC)\n",
    "        val = self.get_x()\n",
    "        return myfunction(val)\n",
    "\n",
    "    # Modifica Individul \n",
    "    # Mutatie rara asupra individului\n",
    "    def rare_mutation(self):\n",
    "        pos = int(math.floor(rand() * len(self.bits)))\n",
    "        self.bits[pos] = 1 - self.bits[pos]\n",
    "    \n",
    "    # Mutatie deasa asupra individului\n",
    "    def often_mutation(self, probability):\n",
    "        for i in range(len(self.bits)):\n",
    "            if rand() < probability:\n",
    "                self.bits[i] = 1 - self.bits[i]\n",
    "                \n",
    "    # O reprezentare ca string a cromozomului\n",
    "    def tostr(self):\n",
    "        mystr = \"\".join([\"1\" if bit == 1 else \"0\" for bit in self.bits])\n",
    "        return f\"{mystr}  x = {self.get_x():.5f}  f = {self.get_val():.8f}\"\n",
    "\n",
    "# Incrucisam cromozomii <a>, <b> returnand cei 2 cromozomi rezultati\n",
    "def incruciseaza_2(a: Individ, b: Individ):\n",
    "    pos = int(math.floor(rand() * len(a.bits)))\n",
    "#     print(\"Rand pos: \", pos)\n",
    "    \n",
    "    x, y = mycp(a.bits[:pos] + b.bits[pos:]), mycp(b.bits[:pos] + a.bits[pos:])\n",
    "    \n",
    "    return Individ(x), Individ(y)\n",
    "\n",
    "# Incrucisam cromozomii <a>, <b>, <c> returnand cei 3 cromozomi rezultati\n",
    "def incruciseaza_3(a: Individ, b: Individ, c: Individ):\n",
    "    pos = int(math.floor(rand() * len(a.bits)))\n",
    "#     print(\"Rand pos: \", pos)\n",
    "#     print(\"a before: \", a.bits)\n",
    "    x, y, z = mycp(a.bits[:pos] + b.bits[pos:]), mycp(b.bits[:pos] + c.bits[pos:]), mycp(c.bits[:pos] + a.bits[pos:])\n",
    "#     print(\"a after:  \", x)\n",
    "    return Individ(x), Individ(y), Individ(z)\n",
    "\n",
    "# Generam random un cromozom de o anumita lungime\n",
    "def gen_random(lg: int):\n",
    "    return Individ([1 if rand() < 0.5 else 0 for x in range(lg)])"
   ]
  },
  {
   "cell_type": "code",
   "execution_count": 146,
   "metadata": {},
   "outputs": [],
   "source": [
    "# Utils\n",
    "def sortGeneration(generatie):\n",
    "    return sorted(generatie, key=lambda x: x.get_val(), reverse=True)"
   ]
  },
  {
   "cell_type": "code",
   "execution_count": 147,
   "metadata": {},
   "outputs": [],
   "source": [
    "# Procesul de selectie al cromozomilor\n",
    "# Din <generatie>, alegem <alesi> cromozomi\n",
    "def Selectare(generatie, alesi, out_file = None):\n",
    "    # Salvam cromozomii in ordinea sortata duap performanta, \n",
    "    # si in cea initiala pentru a salva schimbarile in fisierul txt\n",
    "    zipped = sorted([(x.get_val(), x) for x in generatie], \n",
    "        key = lambda x: x[0])\n",
    "    sorted_el = [x[1] for x in zipped]\n",
    "    total_sum = sum([x[0] for x in zipped])\n",
    "    sorted_ws = [x[0] / total_sum for x in zipped]\n",
    "    el = generatie\n",
    "    ws = [x.get_val() / total_sum for x in generatie]\n",
    "    \n",
    "    log_selectie_probs(generatie, ws, out_file)\n",
    "    \n",
    "    rank_sum = sum([i + 1 for i in range(len(zipped))])\n",
    "    rank_weights = [(i + 1) / rank_sum for i in range(len(zipped))]\n",
    "\n",
    "    selected = []\n",
    "    \n",
    "    # In functie de criteriul de selectie ales, facem selectia\n",
    "    while len(selected) < alesi:\n",
    "#         print(\"selecting another guy\")\n",
    "        if SEL_PROPORTIONALA:\n",
    "            draw = np.random.choice(el, 1, p = ws)\n",
    "            selected += copy.deepcopy(draw.tolist())\n",
    "#             print(\"Alegere proportionala: \", draw)\n",
    "        elif SEL_ORDONARE:\n",
    "            draw = np.random.choice(sorted_el, 1, p = rank_weights)\n",
    "            selected += copy.deepcopy(draw.tolist())\n",
    "#             print(\"Alegere ordonare: \", draw)\n",
    "        elif SEL_TURNEU:\n",
    "            draw = np.random.choice(el, SEL_TURNEU_SIZE)\n",
    "            best_guy = None\n",
    "            for dude in draw:\n",
    "                if best_guy == None:\n",
    "                    best_guy = dude\n",
    "                elif dude.get_val() > best_guy.get_val():\n",
    "                    best_guy = dude\n",
    "            selected += copy.deepcopy([best_guy])\n",
    "#             print(\"Alegere turneu\")\n",
    "    \n",
    "    log_selectie(selected, out_file)\n",
    "    \n",
    "    return selected\n",
    "\n",
    "# Subrutina pentru a selectiona cel mai bun cromozom\n",
    "# Din <generatie>, alegem elita compusa din un numar de <alesi> cromozomi\n",
    "def SelectElita(generatie, alesi, out_file):\n",
    "    zipped = sorted([(x.get_val(), x) for x in generatie], \n",
    "        key = lambda x: x[0])\n",
    "    elita = []\n",
    "    for i in range(alesi):\n",
    "        elita += [mycp(zipped[-(1 + i)][1])]\n",
    "    \n",
    "    log_selectie_elita(elita, out_file)\n",
    "    \n",
    "    return elita\n",
    "\n",
    "# Aplica operatorii de recombinare si mutatie\n",
    "# Aplicam mutatiile asupra cromozomilor din <generatie>\n",
    "def Mutatii(generatie, out_file):\n",
    "    # Incrucisare\n",
    "    # Alegem pozitiile peste care incrucisam\n",
    "    N = len(generatie)\n",
    "    pozitii = np.random.choice(list(range(N)), int(P_REC * N))\n",
    "    log_Ales_Mutatii(generatie, pozitii, out_file)\n",
    "    \n",
    "    ind = 0\n",
    "    while ind + 1 < len(pozitii):\n",
    "        # Daca am un numar impar\n",
    "        if (len(pozitii) - ind) % 2 == 1:\n",
    "            # Daca am selectat un numar impar de candidati, tratam 3 dintre ei impreuna\n",
    "            log_before(generatie, [pozitii[ind], pozitii[ind + 1], pozitii[ind + 2]], out_file)\n",
    "            a, b, c = incruciseaza_3(generatie[pozitii[ind]], generatie[pozitii[ind + 1]], generatie[pozitii[ind + 2]])\n",
    "            generatie[pozitii[ind]], generatie[pozitii[ind + 1]], generatie[pozitii[ind + 2]] = a, b, c\n",
    "            log_after(generatie, [pozitii[ind], pozitii[ind + 1], pozitii[ind + 2]], out_file)\n",
    "            ind += 3\n",
    "        else:\n",
    "            # Incrucisam 2 cromozomi\n",
    "            log_before(generatie, [pozitii[ind], pozitii[ind + 1]], out_file)\n",
    "            a, b = incruciseaza_2(generatie[pozitii[ind]], generatie[pozitii[ind + 1]])\n",
    "            generatie[pozitii[ind]], generatie[pozitii[ind + 1]] = a, b\n",
    "            log_after(generatie, [pozitii[ind], pozitii[ind + 1]], out_file)\n",
    "            ind += 2\n",
    "    \n",
    "    log_Pop(generatie, out_file, \"\\nDupa recombinare:\")\n",
    "    \n",
    "    mod_mut = [0] * N\n",
    "    # Mutatii\n",
    "    for i in range(len(generatie)):\n",
    "        # Pentru a nu performa mutatii peste toti cromozomii, \n",
    "        # aplicam o mutatie cu probabilitatea Mutatiei\n",
    "        if (rand() > P_MUT):\n",
    "            continue\n",
    "        mod_mut[i] = 1\n",
    "        # Aplicam mutatia deasa sau rara, in functie de alegere\n",
    "        if ALG_MUTATIE_DEASA:\n",
    "            generatie[i].often_mutation(P_MUT)\n",
    "        elif ALG_MUTATIE_RARA:\n",
    "            generatie[i].rare_mutation()\n",
    "            \n",
    "    log_Pop_Mutatie(generatie, mod_mut, out_file)\n",
    "            \n",
    "    return generatie\n",
    "        \n",
    "# Ruleaza olgoritmul genetic folosindu-se de variabilele globale ca parametrii\n",
    "def Simuleaza(out_file = None):\n",
    "    Len = math.ceil(math.log(10**PRECIZIE * (DOM_B - DOM_A), 2))\n",
    "    \n",
    "    # Generam la intamplare prima generatie\n",
    "    generatie = [gen_random(Len) for x in range(DIM_POP)]\n",
    "    \n",
    "    log_Pop(generatie, out_file, \"Populatia initiala:\")\n",
    "    \n",
    "    all_gens = [copy.deepcopy(generatie)]\n",
    "    for e in range(EPOCHS):\n",
    "        if e >= 1:\n",
    "            out_file = None\n",
    "        \n",
    "        # Pastram cel mai bun cromozom\n",
    "        NR_ELITA = 1\n",
    "        elita = SelectElita(generatie, NR_ELITA, out_file)\n",
    "        # Pentru restul aplicam algoritmul de selectare\n",
    "        generatie = Selectare(generatie, DIM_POP - NR_ELITA, out_file)\n",
    "        # Din cei selectati, aplicam operatorii de recombinare si mutatie\n",
    "        generatie = Mutatii(generatie, out_file)\n",
    "        \n",
    "        generatie += elita\n",
    "        \n",
    "        log_Pop(generatie, out_file, \"\\nGeneratia urmatoare:\")\n",
    "        if out_file == None:\n",
    "            log_best(generatie, FILENAME)\n",
    "            \n",
    "        \n",
    "        # Salvam datele pentru grafice\n",
    "        all_gens.append(copy.deepcopy(generatie))\n",
    "        \n",
    "    return all_gens\n"
   ]
  },
  {
   "cell_type": "code",
   "execution_count": 148,
   "metadata": {},
   "outputs": [],
   "source": [
    "# Save to file stuff\n",
    "def resetfile(out_file):\n",
    "    if out_file == None:\n",
    "        return\n",
    "    f = open(out_file, \"w\")\n",
    "    f.close()\n",
    "\n",
    "def log_best(generatie, out_file):\n",
    "    if out_file == None:\n",
    "        return\n",
    "    f = open(out_file, \"a\")\n",
    "    f.write(f\"Best performer: {get_best(generatie).get_val()}\\n\")\n",
    "    f.close()\n",
    "    \n",
    "def log_Pop(generatie, out_file, message):\n",
    "    if out_file == None:\n",
    "        return\n",
    "    f = open(out_file, \"a\")\n",
    "    f.write(message + \"\\n\")\n",
    "    for i, x in enumerate(generatie):\n",
    "        f.write(str(i + 1).rjust(3, ' ') + f\": {x.tostr()}\\n\")\n",
    "    f.close()\n",
    "    log_best(generatie, out_file)\n",
    "    \n",
    "def log_selectie_probs(generatie, weights, out_file):\n",
    "    if out_file == None:\n",
    "        return\n",
    "    f = open(out_file, \"a\")\n",
    "    f.write(\"\\nProbabilitati selectie:\\n\")\n",
    "    \n",
    "    for i, x in enumerate(generatie):\n",
    "        f.write(str(i + 1).rjust(3, ' ') + f\": probabilitate = {weights[i]:.5f}\\n\")\n",
    "    \n",
    "    f.write(\"\\n\\nIntervale selectie:\\n\")\n",
    "    summ = 0\n",
    "    for i, x in enumerate(generatie):\n",
    "        f.write(str(i + 1).rjust(3, ' ') + f\": {x.tostr()}   {summ:.4f} - {summ+weights[i]:.4f}\\n\")\n",
    "        summ += weights[i]\n",
    "    \n",
    "    f.close()\n",
    "\n",
    "def log_selectie_elita(elita, out_file):\n",
    "    if out_file == None:\n",
    "        return\n",
    "    f = open(out_file, \"a\")\n",
    "    f.write(\"\\n\\nSelectia elitista:\\n\")\n",
    "    \n",
    "    for i, x in enumerate(elita):\n",
    "        f.write(str(i + 1).rjust(3, ' ') + f\": {x.tostr()}\\n\")\n",
    "    \n",
    "    f.close()\n",
    "\n",
    "def log_selectie(selected, out_file):\n",
    "    if out_file == None:\n",
    "        return\n",
    "    f = open(out_file, \"a\")\n",
    "    f.write(\"\\n\\nSelectia ruleta:\\n\")\n",
    "    \n",
    "    for i, x in enumerate(selected):\n",
    "        f.write(str(i + 1).rjust(3, ' ') + f\": {x.tostr()}\\n\")\n",
    "    \n",
    "    f.close()\n",
    "    \n",
    "def log_Ales_Mutatii(generatie, pozitii, out_file):\n",
    "    if out_file == None:\n",
    "        return\n",
    "    f = open(out_file, \"a\")\n",
    "    f.write(\"\\n\\nCromozomi pentru incrucisare:\\n\")\n",
    "    \n",
    "    ales = [0] * len(generatie)\n",
    "    for poz in pozitii:\n",
    "        ales[poz] = 1\n",
    "    for i, x in enumerate(generatie):\n",
    "        text = \"\"\n",
    "        if ales[i]:\n",
    "            text = \"(Ales)\"\n",
    "        f.write(str(i + 1).rjust(3, ' ') + f\": {x.tostr()}  {text}\\n\")\n",
    "    \n",
    "    f.close()\n",
    "    \n",
    "def log_before(gen, pos, out_file):\n",
    "    if out_file == None:\n",
    "        return\n",
    "    f = open(out_file, \"a\")\n",
    "    f.write(\"\\nPas Incrucisare (inainte):\\n\")\n",
    "    \n",
    "    for p in pos:\n",
    "        f.write(str(p + 1).rjust(3, ' ') + f\": {gen[p].tostr()}\\n\")\n",
    "    \n",
    "    f.close()\n",
    "    \n",
    "def log_after(gen, pos, out_file):\n",
    "    if out_file == None:\n",
    "        return\n",
    "    f = open(out_file, \"a\")\n",
    "    f.write(\"Pas Incrucisare (dupa):\\n\")\n",
    "    \n",
    "    for p in pos:\n",
    "        f.write(str(p + 1).rjust(3, ' ') + f\": {gen[p].tostr()}\\n\")\n",
    "    \n",
    "    f.close()\n",
    "\n",
    "def log_Pop_Mutatie(gen, ales, out_file):\n",
    "    if out_file == None:\n",
    "        return\n",
    "    f = open(out_file, \"a\")\n",
    "    f.write(\"\\nDupa mutatii:\\n\")\n",
    "    \n",
    "    for i, x in enumerate(gen):\n",
    "        text = \"\"\n",
    "        if ales[i] != 0:\n",
    "            text = \"(Modificat)\"\n",
    "        f.write(str(i + 1).rjust(3, ' ') + f\": {gen[i].tostr()}  {text}\\n\")\n",
    "    \n",
    "    f.close()"
   ]
  },
  {
   "cell_type": "code",
   "execution_count": 149,
   "metadata": {},
   "outputs": [],
   "source": [
    "# Dandu-se o lista cu toate generatiile, \n",
    "# Afiseaza graficele pentru Valoarea medie a functiei f peste o generatie\n",
    "# Si cel mai bun individ pentru fiecare generatie\n",
    "def myPlot(all_gens):\n",
    "    second = int(DIM_POP * SECONDARY_PERCENT / 100)\n",
    "    meds = []\n",
    "    \n",
    "    for i in range(len(all_gens)):\n",
    "        all_gens[i] = sortGeneration(all_gens[i])\n",
    "        meds.append(sum([x.get_val() for x in all_gens[i]]) / len(all_gens[i]))\n",
    "    \n",
    "    plt.plot([max([x.get_val() for x in all_gens[i]]) for i in range(len(all_gens))], color = 'blue')\n",
    "    plt.xlabel(\"Best performer\") \n",
    "    plt.show()\n",
    "    \n",
    "    plt.plot(meds, color='red')\n",
    "    plt.xlabel(\"Average f(x)\")\n",
    "    plt.show()\n",
    "    \n",
    "def get_best(indivizi):\n",
    "    zipped = sorted([(x.get_val(), x) for x in indivizi], \n",
    "        key = lambda x: x[0])\n",
    "    return zipped[np.argmax([x[0] for x in zipped])][1]"
   ]
  },
  {
   "cell_type": "code",
   "execution_count": 150,
   "metadata": {
    "scrolled": true
   },
   "outputs": [
    {
     "data": {
      "application/vnd.jupyter.widget-view+json": {
       "model_id": "d37d87f8022d400f9016180d37556652",
       "version_major": 2,
       "version_minor": 0
      },
      "text/plain": [
       "HBox(children=(Label(value='Dimensiunea populatiei'), IntSlider(value=25, max=2000, min=10, step=5)))"
      ]
     },
     "metadata": {},
     "output_type": "display_data"
    },
    {
     "data": {
      "application/vnd.jupyter.widget-view+json": {
       "model_id": "3854fa32e69346e5bd173af19cdd15ea",
       "version_major": 2,
       "version_minor": 0
      },
      "text/plain": [
       "HBox(children=(Label(value='Domeniul functiei'), IntRangeSlider(value=(-1, 2), min=-100), Layout(height='40px'…"
      ]
     },
     "metadata": {},
     "output_type": "display_data"
    },
    {
     "data": {
      "application/vnd.jupyter.widget-view+json": {
       "model_id": "0be4dd0f93764b288de454ae18fc1c07",
       "version_major": 2,
       "version_minor": 0
      },
      "text/plain": [
       "HBox(children=(Label(value='Functia de maximizat (in x)'), Text(value='-1 * x**2 + x + 2', placeholder='Functi…"
      ]
     },
     "metadata": {},
     "output_type": "display_data"
    },
    {
     "data": {
      "application/vnd.jupyter.widget-view+json": {
       "model_id": "55616e393da24e1d85fcc6d3ec141ab1",
       "version_major": 2,
       "version_minor": 0
      },
      "text/plain": [
       "HBox(children=(Label(value='Precizie'), IntSlider(value=6, max=15, min=1)))"
      ]
     },
     "metadata": {},
     "output_type": "display_data"
    },
    {
     "data": {
      "application/vnd.jupyter.widget-view+json": {
       "model_id": "1f589de3024947d0b806fcf36032629f",
       "version_major": 2,
       "version_minor": 0
      },
      "text/plain": [
       "HBox(children=(Label(value='Prob. recombinare'), FloatSlider(value=0.25, max=1.0, step=0.01), Label(value='Pro…"
      ]
     },
     "metadata": {},
     "output_type": "display_data"
    },
    {
     "data": {
      "application/vnd.jupyter.widget-view+json": {
       "model_id": "e0d743862e874e43b48a4ede31e86d4f",
       "version_major": 2,
       "version_minor": 0
      },
      "text/plain": [
       "HBox(children=(Label(value='Tipul de mutatie'), ToggleButtons(options=('Mutatie rara', 'Mutatie comuna'), valu…"
      ]
     },
     "metadata": {},
     "output_type": "display_data"
    },
    {
     "data": {
      "application/vnd.jupyter.widget-view+json": {
       "model_id": "d1a62ca02a884033a0c0f8e5f06a7443",
       "version_major": 2,
       "version_minor": 0
      },
      "text/plain": [
       "HBox(children=(Label(value='Numarul de generatii'), IntSlider(value=400, max=1250, min=10, step=5)))"
      ]
     },
     "metadata": {},
     "output_type": "display_data"
    },
    {
     "data": {
      "application/vnd.jupyter.widget-view+json": {
       "model_id": "8036f9dc58dc4e5f885b53c8558d0e94",
       "version_major": 2,
       "version_minor": 0
      },
      "text/plain": [
       "HBox(children=(Label(value='Procentajul de populatie urmarit secundar'), IntSlider(value=15)))"
      ]
     },
     "metadata": {},
     "output_type": "display_data"
    }
   ],
   "source": [
    "# Display widgets\n",
    "\n",
    "display(widgets.HBox([Label('Dimensiunea populatiei'), w_populatie]))\n",
    "display(widgets.HBox([Label('Domeniul functiei'), w_domeniu, layout]))\n",
    "display(widgets.HBox([Label('Functia de maximizat (in x)'), w_function]))\n",
    "display(widgets.HBox([Label('Precizie'), w_precizie]))\n",
    "display(widgets.HBox([Label('Prob. recombinare'), w_prob_recomb, \n",
    "                      Label('Prob. mutatie'), w_prob_mutatie]))\n",
    "display(widgets.HBox([Label('Tipul de mutatie'), w_tip_mutatie]))\n",
    "display(widgets.HBox([Label('Numarul de generatii'), w_generatii]))\n",
    "display(widgets.HBox([Label('Procentajul de populatie urmarit secundar'), w_secondary]))"
   ]
  },
  {
   "cell_type": "code",
   "execution_count": 151,
   "metadata": {},
   "outputs": [
    {
     "data": {
      "image/png": "[encoded data removed]",
      "text/plain": [
       "<Figure size 432x288 with 1 Axes>"
      ]
     },
     "metadata": {
      "needs_background": "light"
     },
     "output_type": "display_data"
    },
    {
     "data": {
      "image/png": "[encoded data removed]",
      "text/plain": [
       "<Figure size 432x288 with 1 Axes>"
      ]
     },
     "metadata": {
      "needs_background": "light"
     },
     "output_type": "display_data"
    },
    {
     "name": "stdout",
     "output_type": "stream",
     "text": [
      "Solutie gasita: 1000000000000000000000  x = 0.50000  f = 2.25000000\n"
     ]
    }
   ],
   "source": [
    "# Pentru a rula din nou cu valorile modificate din interfata grafica,\n",
    "# rulati din nou aceasta celula\n",
    "\n",
    "# Seteaza hiper-parametrii\n",
    "setGlobals()\n",
    "\n",
    "# Rescrie fisier\n",
    "resetfile(FILENAME)\n",
    "\n",
    "# Simulare\n",
    "data = Simuleaza(FILENAME)\n",
    "myPlot(data)\n",
    "\n",
    "# Summary\n",
    "print(f\"Solutie gasita: {get_best(data[-1]).tostr()}\")\n",
    "\n"
   ]
  }
 ],
 "metadata": {
  "kernelspec": {
   "display_name": "Python 3",
   "language": "python",
   "name": "python3"
  },
  "language_info": {
   "codemirror_mode": {
    "name": "ipython",
    "version": 3
   },
   "file_extension": ".py",
   "mimetype": "text/x-python",
   "name": "python",
   "nbconvert_exporter": "python",
   "pygments_lexer": "ipython3",
   "version": "3.8.5"
  }
 },
 "nbformat": 4,
 "nbformat_minor": 4
}
